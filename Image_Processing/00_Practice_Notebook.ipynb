{
 "cells": [
  {
   "cell_type": "markdown",
   "metadata": {},
   "source": [
    "## Content\n",
    "----\n",
    "### [Arithemetic Operations](#arithemetic_operations)\n",
    "- [ ] Add, Subtract Two images (Image difference, Template Matching)\n",
    "\n",
    "### [Geometric Transformations](#Geometric_Transformations)\n",
    "- [ ] Rotation, Crop, Resizing (Downscale And Upscale[Interpolation] Image)\n",
    "\n",
    "### [Color Image Transformation](#color_transform)\n",
    "- [X] RGB → BGR → HSV\n",
    "    - Play HSV with slider\n",
    "    - Color the gray scale Image\n",
    "- [X] Resizing (Downscale And Upscale[Interpolation] Image)\n",
    "    \n",
    "### [Image Enhancing](#image_enhancing)\n",
    "- [X] Gray Scale Transform\n",
    "    - Negative\n",
    "    - Log Transform, Gamma Correction\n",
    "    \n",
    "### [Image Gradient](#image_gradient)\n",
    "- [ ] Gray Scale, Smooth image, Edge Detection Image (Sobel, Laplaican)\n",
    "\n",
    "### [Image Segmentation](#image_segmentation)\n",
    "- [ ] Image Thresholding\n",
    "    - difference between 0-1 and 0-255\n",
    "\n",
    "### [Morphological Transforms](#morphological)\n",
    "- [ ] Erosion, Dilation\n",
    "- [ ] Opening, Closing, Hit Or Miss\n"
   ]
  },
  {
   "cell_type": "markdown",
   "metadata": {},
   "source": [
    "<a id='arithemetic_operations'></a>\n",
    "### Arithemetic Operations"
   ]
  },
  {
   "cell_type": "code",
   "execution_count": null,
   "metadata": {},
   "outputs": [],
   "source": [
    "import matplotlib.image as mpimg\n",
    "import matplotlib.pyplot as plt\n",
    "import numpy as np\n",
    "import cv2\n",
    "\n",
    "# Helper function for showing images (Ignore Okie.)\n",
    "def imShow(imgs, titles=None):\n",
    "    num = len(imgs)\n",
    "    x = (num//4)+1\n",
    "    y = int(np.ceil(num/x))\n",
    "    plt.figure(figsize=(18,15))\n",
    "    for i in range(num):\n",
    "        plt.subplot(x, y, i+1)\n",
    "        cmap=None\n",
    "        title=None\n",
    "        if imgs[i].ndim==2:cmap='gray'\n",
    "        if titles!=None:title=titles[i]\n",
    "        plt.imshow(imgs[i], cmap=cmap)\n",
    "        plt.title(title)\n",
    "    plt.tight_layout()\n",
    "    plt.show()"
   ]
  },
  {
   "cell_type": "markdown",
   "metadata": {},
   "source": [
    "#### Sub Two Images"
   ]
  },
  {
   "cell_type": "code",
   "execution_count": null,
   "metadata": {},
   "outputs": [],
   "source": [
    "img1 = mpimg.imread('1.jpg')\n",
    "img2 = mpimg.imread('2.jpg')\n",
    "\n",
    "# (Code Here) First let's check their dimension\n",
    "print()\n",
    "\n",
    "# (Code Here) Extend range so there won't be gibberish\n",
    "diff = \n",
    "\n",
    "imShow([img1, img2, diff], ['img1', 'img2', 'Difference'])"
   ]
  },
  {
   "cell_type": "markdown",
   "metadata": {},
   "source": [
    "#### Add Two Images"
   ]
  },
  {
   "cell_type": "code",
   "execution_count": null,
   "metadata": {},
   "outputs": [],
   "source": [
    "img1 = mpimg.imread('bird.jpg')\n",
    "img2 = mpimg.imread('back.jpg')\n",
    "h, w, d = img2.shape\n",
    "\n",
    "# (Code) Resize the img1 to the same dimension as img2\n",
    "img1 = \n",
    "\n",
    "assert img1.shape == img2.shape\n",
    "\n",
    "# (Code) Add two images\n",
    "add = \n",
    "\n",
    "# (Code) Clip Range\n",
    "\n",
    "\n",
    "imShow([img1, img2, add])"
   ]
  },
  {
   "cell_type": "markdown",
   "metadata": {},
   "source": [
    "#### Note:\n",
    "While Adding, subtracting two different images, Be aware that their dimension (ie. img.shape) must be the same."
   ]
  },
  {
   "cell_type": "markdown",
   "metadata": {},
   "source": [
    "<a id='Geometric_Transformations'></a>\n",
    "### [Geometric Transformations](https://opencv-python-tutroals.readthedocs.io/en/latest/py_tutorials/py_imgproc/py_geometric_transformations/py_geometric_transformations.html)\n",
    "#### Rotation, Crop\n",
    "\n"
   ]
  },
  {
   "cell_type": "code",
   "execution_count": null,
   "metadata": {},
   "outputs": [],
   "source": [
    "# Rotation\n",
    "img = mpimg.imread('tower.jpg')\n",
    "h, w, d = img.shape\n",
    "\n",
    "# (Code) Simple rotation\n",
    "simple = cv2.rotate()\n",
    "\n",
    "# (Code) Rotate 45 degree at center\n",
    "M = cv2.getRotationMatrix2D()\n",
    "rotated = cv2.warpAffine()\n",
    "\n",
    "\n",
    "imShow([img, simple, rotated], ['Tower', 'Simple Rotate', '45 degree Rotated'])"
   ]
  },
  {
   "cell_type": "code",
   "execution_count": null,
   "metadata": {},
   "outputs": [],
   "source": [
    "# Crop [Image Slicing]\n",
    "img_copy = np.copy(img)\n",
    "h, w, d = img_copy.shape\n",
    "person = img_copy[]    # (Code)\n",
    "tower = img_copy[]     # (Code)\n",
    "imShow([img, person, tower], ['Original Image', 'Person', 'Tower'])"
   ]
  },
  {
   "cell_type": "markdown",
   "metadata": {},
   "source": [
    "<a id='color_transform'></a>\n",
    "### Color Image Transformation\n",
    "\n",
    "#### RGB -> BGR -> HSV\n",
    "- [ ] Play with slider\n",
    "- [ ] Grayscale to Heatmap"
   ]
  },
  {
   "cell_type": "code",
   "execution_count": null,
   "metadata": {},
   "outputs": [],
   "source": [
    "img = mpimg.imread('parrot.jpg')\n",
    "# (Code) Convert From RGB2BGR\n",
    "bgr = cv2.cvtColor()\n",
    "imShow([img, bgr], ['Original Image', 'BGR Image'])"
   ]
  },
  {
   "cell_type": "code",
   "execution_count": null,
   "metadata": {},
   "outputs": [],
   "source": [
    "img = mpimg.imread('parrot.jpg')\n",
    "\n",
    "# (Code) Convert From RGB2HSV\n",
    "hsv = cv2.cvtColor()\n",
    "\n",
    "# (Code) Access h, s, v\n",
    "h = hsv[:, :, 0]  # Example\n",
    "s = hsv[]\n",
    "v = hsv[]\n",
    "print('hue\\t\\t', np.min(h), np.max(h),\n",
    "      '\\nsaturation\\t', np.min(s), np.max(s),\n",
    "      '\\nvalue\\t\\t', np.min(v), np.max(v))\n",
    "imShow([h, s, v], ['Hue', 'Saturation', 'Value'])"
   ]
  },
  {
   "cell_type": "code",
   "execution_count": null,
   "metadata": {},
   "outputs": [],
   "source": [
    "# Why HSV\n",
    "def colorpicker(r, g=0, b=0):\n",
    "    print('RGB \\t: ', r, g, b)\n",
    "    r = np.zeros((10,10))+r\n",
    "    g = np.zeros((10,10))+g\n",
    "    b = np.zeros((10,10))+b\n",
    "    temp = np.array(np.dstack((r, g, b)), dtype=np.uint8)\n",
    "    hsv = cv2.cvtColor(temp, cv2.COLOR_RGB2HSV)\n",
    "    h = hsv[:, :, 0];s = hsv[:, :, 1];v = hsv[:, :, 2]\n",
    "    print('HSV \\t', h[0,0], s[0,0], v[0,0])\n",
    "    plt.imshow(temp);plt.show()\n",
    "    \n",
    "r = widgets.IntSlider(min=0, max=255, step=5, value=0, continuous_update=False, layout=Layout(width='55%', height='10pt'))\n",
    "g = widgets.IntSlider(min=0, max=255, step=5, value=0, continuous_update=False, layout=Layout(width='55%', height='10pt'))\n",
    "b = widgets.IntSlider(min=0, max=255, step=5, value=0, continuous_update=False, layout=Layout(width='55%', height='10pt'))\n",
    "interactive(colorpicker, r=r, g=g, b=b)"
   ]
  },
  {
   "cell_type": "markdown",
   "metadata": {},
   "source": [
    "### Question?\n",
    "\n",
    "Why would we could HSV while we already have RGB?"
   ]
  },
  {
   "cell_type": "code",
   "execution_count": null,
   "metadata": {},
   "outputs": [],
   "source": [
    "# Resizing\n",
    "import matplotlib.image as mpimg\n",
    "import matplotlib.pyplot as plt\n",
    "import numpy as np\n",
    "import cv2\n",
    "\n",
    "# Resizing\n",
    "img = cv2.imread(\"lenna.png\", cv2.IMREAD_COLOR)\n",
    "# img = mpimg.imread('lenna.png')\n",
    "h, w, d = img.shape\n",
    "dims = (w//2, h//2)\n",
    "dims_ = (w*2, h*2)\n",
    "\n",
    "# (Code) Fill the argumenets.\n",
    "downscale = cv2.resize()\n",
    "# (Code) Use cv2.INTER_CUBIC\n",
    "upscale_cubic = cv2.resize()\n",
    "# (Code) Use cv2.INTER_AREA\n",
    "upscale_area = cv2.resize()\n",
    "\n",
    "# imShow([img, downscale, upscale, upscale_], [f'Original Image : {img.shape}', f'Downscale Image : {downscale.shape}', 'UPscale', 'Upscale'])\n",
    "cv2.namedWindow('Original Image', cv2.WINDOW_NORMAL);cv2.imshow('Original Image', img)\n",
    "cv2.namedWindow('Downscale Image', cv2.WINDOW_NORMAL);cv2.imshow('Downscale Image', downscale)\n",
    "cv2.namedWindow('Upscale Inter_AREA Image', cv2.WINDOW_NORMAL);cv2.imshow('Upscale Inter_AREA Image', upscale)\n",
    "cv2.namedWindow('Upscalle Inter_CUBIC Image', cv2.WINDOW_NORMAL);cv2.imshow('Upscalle Inter_CUBIC Image', upscale_)\n",
    "cv2.waitKey(0)\n",
    "cv2.destroyAllWindows()"
   ]
  },
  {
   "cell_type": "code",
   "execution_count": null,
   "metadata": {},
   "outputs": [],
   "source": [
    "# Grayscale to heatmap\n",
    "img = mpimg.imread('corona_gray.jpg')\n",
    "\n",
    "# (Code) Investigate various colormap in cv2\n",
    "heatmap = cv2.applyColorMap()\n",
    "\n",
    "print(img.shape, heatmap.shape)\n",
    "imShow([img, heatmap], ['Gray scale Image', 'Heat Map'])\n",
    "# imShow([heatmap])"
   ]
  },
  {
   "cell_type": "markdown",
   "metadata": {},
   "source": [
    "<a id='image_enhancing'></a>\n",
    "#### Image Enhancing\n",
    "- [ ] Negative\n",
    "- [ ] Log Transform, Gamma Transform\n",
    "\n",
    "<br>\n",
    "\n",
    "-----\n",
    "##### P.S Here, We show with just gray scale, But you can always try with all 3 Color spaces and stack them later with \n",
    "> np.dstack((r, g, b))"
   ]
  },
  {
   "cell_type": "code",
   "execution_count": null,
   "metadata": {},
   "outputs": [],
   "source": [
    "img_names = ['bird_gray.jpg', 'F3_gray.jpg', 'PCL_gray.jpg', 'cells.jpg', 'tree.jpg']\n",
    "\n",
    "for img_name in img_names:\n",
    "    img = mpimg.imread(img_name)\n",
    "    if img.ndim==3:\n",
    "        # Check if color image, convert to gray scale image.\n",
    "        img = cv2.cvtColor(img, cv2.COLOR_RGB2GRAY)\n",
    "\n",
    "    # (Code)\n",
    "    negative =\n",
    "    img_copy = np.copy(img).astype(np.float32)\n",
    "    # Normalize from 0~255(uint8) to 0~1(float)\n",
    "    img_copy /= 255\n",
    "    # (Code)\n",
    "    log = np.log()\n",
    "    \n",
    "    imShow([img, negative, log], ['Orignal Image', 'Negative', 'Log Image'])"
   ]
  },
  {
   "cell_type": "code",
   "execution_count": null,
   "metadata": {},
   "outputs": [],
   "source": [
    "from ipywidgets import interact\n",
    "\n",
    "\n",
    "def gamma_correction(gamma):\n",
    "    img = mpimg.imread('tree.jpg')\n",
    "    if img.ndim==3:\n",
    "        # Check if color image, convert to gray scale image.\n",
    "        img = cv2.cvtColor(img, cv2.COLOR_RGB2GRAY)\n",
    "    r = 1/gamma\n",
    "    # (Code) equation : result = (img/255)**r\n",
    "    result =\n",
    "    print(gamma)\n",
    "    imShow([img, result], ['Original image', 'Gamma Correction'])\n"
   ]
  },
  {
   "cell_type": "markdown",
   "metadata": {},
   "source": [
    "<a id='image_gradient'></a>\n",
    "### Image Gradient\n",
    "\n",
    "#### Edge Detection\n",
    "\n",
    "* Sobel edge (L1), Laplacian Edge (L2)\n",
    "* Smooth, Sharpen Image"
   ]
  },
  {
   "cell_type": "code",
   "execution_count": null,
   "metadata": {},
   "outputs": [],
   "source": [
    "def sobelEdge(img):\n",
    "    # (Code) Fill in the arguments\n",
    "    sobelx = np.abs().astype()\n",
    "    sobely = np.abs().astype()\n",
    "    sobel = np.sqrt(np.square() + np.square())\n",
    "    sobel = (sobel/np.max(sobel)) * 255\n",
    "    return sobel.astype(np.uint8)\n",
    "\n",
    "def laplaceEdge(img):\n",
    "    # (Code) Fill in the arguments\n",
    "    laplace = np.abs(cv2.Laplacian())\n",
    "    # Convert to range 0 ~ 255\n",
    "    laplace = ().astype(np.uint8)\n",
    "    return laplace\n",
    "    \n",
    "img_names = ['dark.jpg', 'page.jpg','tower.jpg']\n",
    "for img_name in img_names:\n",
    "    img = mpimg.imread(img_name)\n",
    "    gray = cv2.cvtColor(img, cv2.COLOR_RGB2GRAY)\n",
    "\n",
    "    sobel = sobelEdge(gray)\n",
    "    laplace = laplaceEdge(gray)\n",
    "    imShow([gray, sobel, laplace], [f'Original image{img.shape}', f'Sobel{sobel.shape}', f'Laplacian{laplace.shape}'])"
   ]
  },
  {
   "cell_type": "code",
   "execution_count": null,
   "metadata": {},
   "outputs": [],
   "source": [
    "def smooth(img):\n",
    "    # (Code) Fill in the arguments\n",
    "    blurred = cv2.GaussianBlur()\n",
    "    return blurred\n",
    "\n",
    "def sharp(img):\n",
    "    # (Code) Fill in the arguments\n",
    "    blurred = cv2.GaussianBlur().astype()\n",
    "    # (Code) expand range\n",
    "    img = img.astype()\n",
    "    # weighted difference\n",
    "    result = np.abs((1.5*img) - (0.5*blurred))\n",
    "    # Convert to range 0 ~ 255\n",
    "    result = ().astype()\n",
    "    return result\n",
    "\n",
    "blurred = smooth(gray)\n",
    "sharped = sharp(gray)\n",
    "imShow([gray, blurred, sharped], ['Original Image', 'Smoothed Image', 'Sharped Image'])"
   ]
  },
  {
   "cell_type": "code",
   "execution_count": null,
   "metadata": {},
   "outputs": [],
   "source": [
    "# Sharpening in color image\n",
    "img = mpimg.imread('tower.jpg')\n",
    "h, w, d = img.shape\n",
    "result = np.zeros((h, w, d), dtype=np.uint8)\n",
    "for i in range(3):\n",
    "    gray = img[:, :, i]\n",
    "    sharped = sharp(gray)\n",
    "    result[:, :, i] = sharped\n",
    "\n",
    "imShow([img, result])"
   ]
  },
  {
   "cell_type": "markdown",
   "metadata": {},
   "source": [
    "<a id='image_segmentation'></a>\n",
    "### Image Segmentation\n",
    "\n",
    "- Image Thresholding\n",
    "    - difference between 0-1 and 0-255"
   ]
  },
  {
   "cell_type": "code",
   "execution_count": null,
   "metadata": {},
   "outputs": [],
   "source": [
    "# Gray Scale Image\n",
    "img1 = np.array([[0, 50, 100, 150, 200, 255],\n",
    "                [0, 50, 100, 150, 200, 255],\n",
    "                [0, 50, 100, 150, 200, 255],\n",
    "                [0, 50, 100, 150, 200, 255]])\n",
    "# Binary Image\n",
    "img2 = np.array([[0, 1, 1, 1, 1, 1],\n",
    "                [0, 0, 1, 1, 1, 0],\n",
    "                [0, 0, 0, 1, 0, 0],\n",
    "                [0, 0, 0, 0, 1, 1]])\n",
    "\n",
    "threshold_img = np.zeros_like(img1)\n",
    "\n",
    "# (Code) Assign threshold value\n",
    "threshold = \n",
    "threshold_img[img1>threshold] = 1\n",
    "\n",
    "imShow([img1, img2, threshold_img], \n",
    "       ['Gray scale Image', 'Binary Image', 'threshold Binary Image'])"
   ]
  },
  {
   "cell_type": "code",
   "execution_count": null,
   "metadata": {
    "scrolled": false
   },
   "outputs": [],
   "source": [
    "# Global Threshold\n",
    "img = mpimg.imread('page.jpg')\n",
    "gray = cv2.cvtColor(img, cv2.COLOR_RGB2GRAY)  # 0 ~ 255\n",
    "\n",
    "# (Code) Try smooth with difference methods. (Comment any one out)\n",
    "gray = cv2.GaussianBlur()\n",
    "gray = cv2.medianBlur()\n",
    "\n",
    "\n",
    "glob_thresh = np.ones_like(gray)\n",
    "# (Code) Assign threshold Value\n",
    "theshold = \n",
    "glob_thresh[gray<theshold] = 0  # 0 & 1\n",
    "\n",
    "# (Code) Fill in the arguments.\n",
    "adap_thresh = cv2.adaptiveThreshold()\n",
    "# (Code) Fill in the arguments.\n",
    "_, otsu_thresh = cv2.threshold()\n",
    "\n",
    "imShow([gray, glob_thresh, adap_thresh, otsu_thresh],\n",
    "       ['gray', 'threshold_image', 'adaptive_threshold', 'otsu_Threshold'])"
   ]
  },
  {
   "cell_type": "markdown",
   "metadata": {},
   "source": [
    "Since thresholding process is transforming gray scale image to **Binary one**, it is also called binarization.\n",
    "> Different method for thresholding would be useful in different scenerios.<br>The best way to find the best method is by trial and error."
   ]
  },
  {
   "cell_type": "markdown",
   "metadata": {},
   "source": [
    "<a id='morphological'></a>\n",
    "### [Morphological Transformations](https://docs.opencv.org/master/d9/d61/tutorial_py_morphological_ops.html)"
   ]
  },
  {
   "cell_type": "code",
   "execution_count": null,
   "metadata": {
    "scrolled": false
   },
   "outputs": [],
   "source": [
    "img = mpimg.imread('cells.jpg')\n",
    "gray = cv2.cvtColor(img, cv2.COLOR_RGB2GRAY)\n",
    "gray = cv2.medianBlur(gray, 5)\n",
    "gray = gray[30:, :]\n",
    "\n",
    "# Let's do some thresholding\n",
    "thresh = np.zeros_like(gray)\n",
    "# threshold value here get by trial and error\n",
    "thresh[gray>175] = 1\n",
    "\n",
    "\n",
    "kernel = np.ones((5,5), np.uint8)\n",
    "# (Code) Erosion\n",
    "eroded = cv2.erode()\n",
    "# (Code) Dilation\n",
    "dilated = cv2.dilate()\n",
    "\n",
    "# (Code) Opening (Erosion + Dilation)\n",
    "opening = cv2.morphologyEx()\n",
    "# (Code) Closing (Dilation + Erosion)\n",
    "closing = cv2.morphologyEx()\n",
    "imShow([gray, thresh, eroded, dilated, opening, closing],\n",
    "       ['Gray Scale Image', 'Binary Threshold Image', 'Eroded Image',\n",
    "        'Dilated Image', 'Morpho Open', 'Morpho Close'])"
   ]
  },
  {
   "cell_type": "code",
   "execution_count": null,
   "metadata": {},
   "outputs": [],
   "source": [
    "from ipywidgets import interact\n",
    "\n",
    "# Let's play around\n",
    "def basicMorph(kernel_size=3, iterations=1):\n",
    "    print(f'Kernel Size : \\t{kernel_size}\\nIterations : \\t{iterations}')\n",
    "    kernel = np.ones((kernel_size, kernel_size), np.uint8)\n",
    "    erode = cv2.erode(thresh, kernel, iterations=iterations)\n",
    "    dilate = cv2.dilate(thresh, kernel, iterations=iterations)\n",
    "    imShow([thresh, erode, dilate],\n",
    "           ['Input Image', 'Eroded image', 'Dilated Image'])\n",
    "\n",
    "\n",
    "interact(basicMorph, kernel_size=(1, 9, 2), iterations=(1, 5, 1));"
   ]
  },
  {
   "cell_type": "markdown",
   "metadata": {},
   "source": [
    "> Up untils now, we have seen many Image processing method. Clearly that is not all for state of the art algorithms, but we mostly cover the basic for that."
   ]
  }
 ],
 "metadata": {
  "kernelspec": {
   "display_name": "Python 3",
   "language": "python",
   "name": "python3"
  },
  "language_info": {
   "codemirror_mode": {
    "name": "ipython",
    "version": 3
   },
   "file_extension": ".py",
   "mimetype": "text/x-python",
   "name": "python",
   "nbconvert_exporter": "python",
   "pygments_lexer": "ipython3",
   "version": "3.7.4"
  }
 },
 "nbformat": 4,
 "nbformat_minor": 2
}
