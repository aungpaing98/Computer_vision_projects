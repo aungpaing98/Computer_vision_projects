{
 "cells": [
  {
   "cell_type": "code",
   "execution_count": 5,
   "metadata": {},
   "outputs": [],
   "source": [
    "from ipywidgets import interact, widgets\n",
    "import numpy as np\n",
    "import cv2\n",
    "import matplotlib.image as mpimg\n",
    "import matplotlib.pyplot as plt"
   ]
  },
  {
   "cell_type": "code",
   "execution_count": 8,
   "metadata": {},
   "outputs": [
    {
     "data": {
      "application/vnd.jupyter.widget-view+json": {
       "model_id": "22247e5003764496bf93cfd6dbd8e245",
       "version_major": 2,
       "version_minor": 0
      },
      "text/plain": [
       "interactive(children=(IntSlider(value=90, description='value', max=180, step=10), Output()), _dom_classes=('wi…"
      ]
     },
     "metadata": {},
     "output_type": "display_data"
    }
   ],
   "source": [
    "@interact(value=(0, 180, 10))\n",
    "def hue(value):\n",
    "    img = mpimg.imread('parrot.jpg')\n",
    "    hsv = cv2.cvtColor(img, cv2.COLOR_RGB2HSV)\n",
    "    h = hsv[:,:,0];s = hsv[:,:,1];v = hsv[:,:,2]\n",
    "    h = h.astype(np.uint32)\n",
    "    h += value\n",
    "    h[h>179] -=180\n",
    "    h = h.astype(np.uint8)\n",
    "    result = np.dstack((h, s, v)).astype(np.uint8)\n",
    "    result = cv2.cvtColor(result, cv2.COLOR_HSV2RGB)\n",
    "    plt.figure(figsize=(20, 15))\n",
    "    plt.imshow(result)"
   ]
  },
  {
   "cell_type": "code",
   "execution_count": 12,
   "metadata": {},
   "outputs": [
    {
     "name": "stdout",
     "output_type": "stream",
     "text": [
      "1.17.2\n",
      "3.1.1\n",
      "4.4.0\n"
     ]
    }
   ],
   "source": [
    "import matplotlib\n",
    "print(np.__version__)\n",
    "print(matplotlib.__version__)\n",
    "print(cv2.__version__)"
   ]
  },
  {
   "cell_type": "code",
   "execution_count": null,
   "metadata": {},
   "outputs": [],
   "source": []
  }
 ],
 "metadata": {
  "kernelspec": {
   "display_name": "Python 3",
   "language": "python",
   "name": "python3"
  },
  "language_info": {
   "codemirror_mode": {
    "name": "ipython",
    "version": 3
   },
   "file_extension": ".py",
   "mimetype": "text/x-python",
   "name": "python",
   "nbconvert_exporter": "python",
   "pygments_lexer": "ipython3",
   "version": "3.7.4"
  }
 },
 "nbformat": 4,
 "nbformat_minor": 2
}
