{
 "cells": [
  {
   "cell_type": "code",
   "execution_count": 1,
   "metadata": {},
   "outputs": [],
   "source": [
    "from ipywidgets import interact, widgets, Layout, interactive\n",
    "import numpy as np\n",
    "import cv2\n",
    "import matplotlib.image as mpimg\n",
    "import matplotlib.pyplot as plt\n",
    "from PIL import Image"
   ]
  },
  {
   "cell_type": "code",
   "execution_count": 2,
   "metadata": {},
   "outputs": [],
   "source": [
    "def adjust(hue, saturation, value):\n",
    "    try:\n",
    "        raise TypeError\n",
    "        img = mpimg.imread('parrot.jpg')\n",
    "    except:\n",
    "        img = Image.open('parrot.jpg')\n",
    "        img = np.array(img)\n",
    "    hsv = cv2.cvtColor(img, cv2.COLOR_RGB2HSV).astype(np.int16)\n",
    "    h=hsv[:,:,0];s=hsv[:,:,1];v=hsv[:,:,2]\n",
    "    h *= 2\n",
    "    saturation *= (255/100);value *= (255/100)\n",
    "    h += hue;s += int(saturation); v += int(value)\n",
    "    h[h>358] -= 359;h[h<0] += 359\n",
    "    s[s>255]=255;s[s<0]=0\n",
    "    v[v>255]=255;v[v<0]=0\n",
    "    h=(h/360)*180\n",
    "    result=np.dstack((h,s,v)).astype(np.uint8)\n",
    "    result=cv2.cvtColor(result, cv2.COLOR_HSV2RGB)\n",
    "    plt.figure(figsize=(15,10));plt.imshow(result)"
   ]
  },
  {
   "cell_type": "code",
   "execution_count": 3,
   "metadata": {},
   "outputs": [],
   "source": [
    "hue = widgets.IntSlider(min=-180, max=180, step=10, value=0, description='Hue', layout=Layout(width='60%', height='20px'))\n",
    "saturation = widgets.IntSlider(min=-100, max=100, step=10, value=0, description='Saturation', layout=Layout(width='60%', height='20px'))\n",
    "value = widgets.IntSlider(min=-100, max=100, step=10, value=0, description='Value', layout=Layout(width='60%', height='20px'))"
   ]
  },
  {
   "cell_type": "code",
   "execution_count": 4,
   "metadata": {},
   "outputs": [
    {
     "data": {
      "application/vnd.jupyter.widget-view+json": {
       "model_id": "753e89a64cc44bc88590932d626bdfae",
       "version_major": 2,
       "version_minor": 0
      },
      "text/plain": [
       "interactive(children=(IntSlider(value=0, description='Hue', layout=Layout(height='20px', width='60%'), max=180…"
      ]
     },
     "metadata": {},
     "output_type": "display_data"
    }
   ],
   "source": [
    "interactive(adjust, hue=hue, saturation=saturation, value=value)"
   ]
  },
  {
   "cell_type": "code",
   "execution_count": 5,
   "metadata": {},
   "outputs": [],
   "source": [
    "import voila"
   ]
  },
  {
   "cell_type": "code",
   "execution_count": 6,
   "metadata": {},
   "outputs": [
    {
     "name": "stdout",
     "output_type": "stream",
     "text": [
      "0.1.23\n"
     ]
    }
   ],
   "source": [
    "print(voila.__version__)"
   ]
  },
  {
   "cell_type": "code",
   "execution_count": null,
   "metadata": {},
   "outputs": [],
   "source": []
  }
 ],
 "metadata": {
  "kernelspec": {
   "display_name": "Python 3",
   "language": "python",
   "name": "python3"
  },
  "language_info": {
   "codemirror_mode": {
    "name": "ipython",
    "version": 3
   },
   "file_extension": ".py",
   "mimetype": "text/x-python",
   "name": "python",
   "nbconvert_exporter": "python",
   "pygments_lexer": "ipython3",
   "version": "3.7.4"
  }
 },
 "nbformat": 4,
 "nbformat_minor": 2
}
