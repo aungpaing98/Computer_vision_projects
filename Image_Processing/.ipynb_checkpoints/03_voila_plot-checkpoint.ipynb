{
 "cells": [
  {
   "cell_type": "markdown",
   "metadata": {},
   "source": [
    "## Content\n",
    "----\n",
    "This Notebook is just simply to play with interactive parameters for image enhancing and morphological Transformation.\n",
    "\n",
    "### [Image Enhancing](#image_enhancing)\n",
    "- [X] RGB → BGR → HSV\n",
    "    - Play HSV with slider\n",
    "- [X] Gray Scale Transform\n",
    "    - Gamma Correction\n",
    "\n",
    "\n",
    "### [Morphological Transforms](#morphological)\n",
    "- [X] Erosion, Dilation\n",
    "- [X] Opening, Closing\n"
   ]
  },
  {
   "cell_type": "code",
   "execution_count": 1,
   "metadata": {},
   "outputs": [],
   "source": [
    "import matplotlib.image as mpimg\n",
    "import matplotlib.pyplot as plt\n",
    "import numpy as np\n",
    "import cv2\n",
    "\n",
    "def imShow(imgs, titles=None):\n",
    "    num = len(imgs)\n",
    "    x = (num//4)+1\n",
    "    y = int(np.ceil(num/x))\n",
    "    plt.figure(figsize=(18,15))\n",
    "    for i in range(num):\n",
    "        plt.subplot(x, y, i+1)\n",
    "        cmap=None\n",
    "        title=None\n",
    "        if imgs[i].ndim==2:cmap='gray'\n",
    "        if titles!=None:title=titles[i]\n",
    "        plt.imshow(imgs[i], cmap=cmap)\n",
    "        plt.title(title)\n",
    "    plt.tight_layout()\n",
    "    plt.show()"
   ]
  },
  {
   "cell_type": "markdown",
   "metadata": {},
   "source": [
    "<a id='image_enhancing'></a>\n",
    "### Image Enhancing\n",
    "\n",
    "#### RGB -> BGR -> HSV\n",
    "- [X] Play with slider"
   ]
  },
  {
   "cell_type": "code",
   "execution_count": 2,
   "metadata": {},
   "outputs": [
    {
     "data": {
      "application/vnd.jupyter.widget-view+json": {
       "model_id": "d50be98e87204376bae2aeef94f81c76",
       "version_major": 2,
       "version_minor": 0
      },
      "text/plain": [
       "interactive(children=(IntSlider(value=0, continuous_update=False, description='hue', layout=Layout(height='20p…"
      ]
     },
     "metadata": {},
     "output_type": "display_data"
    }
   ],
   "source": [
    "from ipywidgets import interact, widgets, Layout, interactive\n",
    "\n",
    "def addHue(hue=0, saturation=0, value=0):\n",
    "    img = mpimg.imread('parrot.jpg')\n",
    "    hsv = cv2.cvtColor(img, cv2.COLOR_RGB2HSV)\n",
    "    hsv = hsv.astype(np.int16)\n",
    "\n",
    "    # Change here\n",
    "    h = hsv[:, :, 0];s = hsv[:, :, 1];v = hsv[:, :, 2]\n",
    "    h *= 2\n",
    "    h += hue;s += saturation;v += value\n",
    "    h[h>358] -= 359; h[h<0] += 359\n",
    "    s[s<0]=0;s[s>255]=255\n",
    "    v[v<0]=0;v[v>255]=255\n",
    "    h = h/2\n",
    "    \n",
    "    hsv = np.dstack((h, s, v)).astype(np.uint8)\n",
    "    revered = cv2.cvtColor(hsv, cv2.COLOR_HSV2RGB)\n",
    "    imShow([img, revered], ['Original Image', 'Modified Image'])\n",
    "    \n",
    "    \n",
    "hue = widgets.IntSlider(min=-180, max=180, step=10, value=0, continuous_update=False ,layout=Layout(width='60%', height='20px'))\n",
    "saturation = widgets.IntSlider(min=-100, max=100, step=10, value=0, continuous_update=False ,layout=Layout(width='60%', height='20px'))\n",
    "value = widgets.IntSlider(min=-100, max=100, step=10, value=0, continuous_update=False ,layout=Layout(width='60%', height='20px'))\n",
    "\n",
    "interactive(addHue, hue=hue, saturation=saturation, value=value)"
   ]
  },
  {
   "cell_type": "markdown",
   "metadata": {},
   "source": [
    "Play with the slider below.\n",
    "The result is interesting, no matter the lighting condition of red color, eg. `[10, 0, 0]` and `[200,0,0]` should all be `red`, the hue value for red is always `0`.\n",
    "\n",
    "The same apply for other color.\n",
    ">For yellow (Hue=30), **RED** and **GREEN** value must be the same.\n",
    "> eg. `[100,100, 0]`  and `[200,200,0]` are all yellow\n",
    "\n",
    "Just play around with these."
   ]
  },
  {
   "cell_type": "code",
   "execution_count": 3,
   "metadata": {},
   "outputs": [
    {
     "data": {
      "application/vnd.jupyter.widget-view+json": {
       "model_id": "fbe4e95f8885425789d1846cb0510025",
       "version_major": 2,
       "version_minor": 0
      },
      "text/plain": [
       "interactive(children=(IntSlider(value=0, continuous_update=False, description='r', layout=Layout(height='20pt'…"
      ]
     },
     "metadata": {},
     "output_type": "display_data"
    }
   ],
   "source": [
    "# Why HSV\n",
    "def colorpicker(r, g=0, b=0):\n",
    "    print('RGB \\t: ', r, g, b)\n",
    "    r = np.zeros((30,30))+r\n",
    "    g = np.zeros((30,30))+g\n",
    "    b = np.zeros((30,30))+b\n",
    "    temp = np.array(np.dstack((r, g, b)), dtype=np.uint8)\n",
    "    hsv = cv2.cvtColor(temp, cv2.COLOR_RGB2HSV)\n",
    "    h = hsv[:, :, 0];s = hsv[:, :, 1];v = hsv[:, :, 2]\n",
    "    print('HSV \\t', h[0,0], s[0,0], v[0,0])\n",
    "    plt.imshow(temp);plt.show()\n",
    "    \n",
    "r = widgets.IntSlider(min=0, max=255, step=5, value=0, continuous_update=False, layout=Layout(width='55%', height='20pt'))\n",
    "g = widgets.IntSlider(min=0, max=255, step=5, value=0, continuous_update=False, layout=r.layout)\n",
    "b = widgets.IntSlider(min=0, max=255, step=5, value=0, continuous_update=False, layout=r.layout)\n",
    "interactive(colorpicker, r=r, g=g, b=b)"
   ]
  },
  {
   "cell_type": "markdown",
   "metadata": {},
   "source": [
    "### Question:\n",
    "\n",
    "Why would we could HSV while we already have RGB?\n"
   ]
  },
  {
   "cell_type": "markdown",
   "metadata": {},
   "source": [
    "#### Gray Scale Transform\n",
    "- Gamma Transform\n",
    "\n",
    "<br>\n",
    "\n",
    "-----\n",
    "##### P.S Here, We show with just gray scale, But you can always try with all 3 Color spaces and stack them later with \n",
    "> np.dstack((r, g, b))"
   ]
  },
  {
   "cell_type": "code",
   "execution_count": 4,
   "metadata": {},
   "outputs": [],
   "source": [
    "from ipywidgets import interact\n",
    "\n",
    "\n",
    "def gamma_correction(gamma=1):\n",
    "#     for img_name in img_names:\n",
    "    img = mpimg.imread('tree.jpg')\n",
    "    if img.ndim==3:\n",
    "        img = cv2.cvtColor(img, cv2.COLOR_RGB2GRAY)\n",
    "    r = 1/gamma\n",
    "    result = (img/255)**r\n",
    "    print(gamma)\n",
    "    imShow([img, result], ['Original image', 'Gamma Correction'])\n",
    "\n",
    "\n",
    "gamma = widgets.FloatSlider(min=0.5, max=2.0, step=0.1, continuous_update=False, layout=Layout(width='60%', height='10pt'))\n",
    "\n",
    "interactive(gamma_correction, gamma=gamma)"
   ]
  },
  {
   "cell_type": "markdown",
   "metadata": {},
   "source": [
    "<a id='morphological'></a>\n",
    "### [Morphological Transformations](https://docs.opencv.org/master/d9/d61/tutorial_py_morphological_ops.html)\n",
    "\n",
    "\n",
    "The parameters that effect the performance of Morphological transform is\n",
    " - Kernel Size\n",
    " - Iteration (Number of iteration of erosion, dilation, etc)"
   ]
  },
  {
   "cell_type": "code",
   "execution_count": 4,
   "metadata": {},
   "outputs": [
    {
     "data": {
      "application/vnd.jupyter.widget-view+json": {
       "model_id": "938fb27071594bbfba96817e1c498a36",
       "version_major": 2,
       "version_minor": 0
      },
      "text/plain": [
       "interactive(children=(IntSlider(value=1, continuous_update=False, description='kernel_size', layout=Layout(hei…"
      ]
     },
     "metadata": {},
     "output_type": "display_data"
    }
   ],
   "source": [
    "img = mpimg.imread('cells.jpg')\n",
    "gray = cv2.cvtColor(img, cv2.COLOR_RGB2GRAY)\n",
    "gray = cv2.medianBlur(gray, 5)\n",
    "gray = gray[30:, :]\n",
    "\n",
    "# Let's do some thresholding\n",
    "thresh = np.zeros_like(gray)\n",
    "# threshold value here get by trial and error\n",
    "thresh[gray>175] = 1\n",
    "\n",
    "from ipywidgets import interact\n",
    "# Let's play around\n",
    "def basicMorph(kernel_size=3, iterations=1):\n",
    "    print(f'Kernel Size : \\t{kernel_size}\\nIterations : \\t{iterations}')\n",
    "    kernel = np.ones((kernel_size, kernel_size), np.uint8)\n",
    "    erode = cv2.erode(thresh, kernel, iterations=iterations)\n",
    "    dilate = cv2.dilate(thresh, kernel, iterations=iterations)\n",
    "    imShow([thresh, erode, dilate],\n",
    "           ['Input Image', 'Eroded image', 'Dilated Image'])\n",
    "\n",
    "\n",
    "kernel_size = widgets.IntSlider(min=1, max=11, step=2, value=1, continuous_update=False, layout=r.layout)\n",
    "iterations = widgets.IntSlider(min=1, max=10, step=1, value=1, continuous_update=False, layout=r.layout)\n",
    "interactive(basicMorph, kernel_size=kernel_size, iterations=iterations)"
   ]
  },
  {
   "cell_type": "code",
   "execution_count": null,
   "metadata": {},
   "outputs": [],
   "source": []
  }
 ],
 "metadata": {
  "kernelspec": {
   "display_name": "Python 3",
   "language": "python",
   "name": "python3"
  },
  "language_info": {
   "codemirror_mode": {
    "name": "ipython",
    "version": 3
   },
   "file_extension": ".py",
   "mimetype": "text/x-python",
   "name": "python",
   "nbconvert_exporter": "python",
   "pygments_lexer": "ipython3",
   "version": "3.7.4"
  }
 },
 "nbformat": 4,
 "nbformat_minor": 4
}
