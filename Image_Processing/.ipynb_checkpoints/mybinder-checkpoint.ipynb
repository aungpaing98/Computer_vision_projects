{
 "cells": [
  {
   "cell_type": "markdown",
   "metadata": {},
   "source": [
    "[Binder with Code](https://mybinder.org/v2/gh/aungpaing98/Computer_vision_projects.git/HEAD?filepath=Image_Processing%2F01_image_processing.ipynb)\n",
    "<br>\n",
    "[Binder Voila](https://mybinder.org/v2/gh/aungpaing98/Computer_vision_projects.git/HEAD?urlpath=%2Fvoila%2Frender%2FImage_Processing%2F01_image_processing.ipynb)"
   ]
  },
  {
   "cell_type": "code",
   "execution_count": null,
   "metadata": {},
   "outputs": [],
   "source": []
  }
 ],
 "metadata": {
  "kernelspec": {
   "display_name": "Python 3",
   "language": "python",
   "name": "python3"
  },
  "language_info": {
   "codemirror_mode": {
    "name": "ipython",
    "version": 3
   },
   "file_extension": ".py",
   "mimetype": "text/x-python",
   "name": "python",
   "nbconvert_exporter": "python",
   "pygments_lexer": "ipython3",
   "version": "3.7.4"
  }
 },
 "nbformat": 4,
 "nbformat_minor": 2
}
