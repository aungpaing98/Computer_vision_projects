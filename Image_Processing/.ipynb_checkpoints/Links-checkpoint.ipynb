{
 "cells": [
  {
   "cell_type": "markdown",
   "metadata": {},
   "source": [
    "# Blog Post\n",
    "\n",
    "[Blog](https://aungpaing98.github.io/Computer_Vision_Blog/image_processing/overview/2020/11/22/image_processing_overview.html#Image-Gradient)\n",
    "\n",
    "# Binder with Code\n",
    " 1. [01_image_processing](https://mybinder.org/v2/gh/aungpaing98/Computer_vision_projects.git/HEAD?filepath=Image_Processing%2F01_image_processing.ipynb)\n",
    " 2. [02_voila_plot.ipynb](https://hub.gke2.mybinder.org/user/aungpaing98-com-vision_projects-21j4rdaw/notebooks/Image_Processing/02_voila_plot.ipynb)\n",
    " 3. [03_voila_plot.ipynb](https://hub.gke2.mybinder.org/user/aungpaing98-com-vision_projects-21j4rdaw/notebooks/Image_Processing/03_voila_plot.ipynb)\n",
    "<br>\n",
    "\n",
    "# Binder with output Only\n",
    " 1. [01_image_processing](https://mybinder.org/v2/gh/aungpaing98/Computer_vision_projects.git/HEAD?urlpath=%2Fvoila%2Frender%2FImage_Processing%2F01_image_processing.ipynb)\n",
    " 2. [02_voila_plot.ipynb](https://hub.gke2.mybinder.org/user/aungpaing98-com-vision_projects-faoe0uii/voila/render/Image_Processing/02_voila_plot.ipynb?token=2AOUhYngQum13_Ir9ArULw)\n",
    " 2. [03_voila_plot.ipynb](https://hub.gke2.mybinder.org/user/aungpaing98-com-vision_projects-dwkhrfdq/voila/render/Image_Processing/03_voila_plot.ipynb?token=qFa9Xqt7QbWz8cKDbz_uFg#image_enhancing)\n"
   ]
  },
  {
   "cell_type": "code",
   "execution_count": null,
   "metadata": {},
   "outputs": [],
   "source": []
  }
 ],
 "metadata": {
  "kernelspec": {
   "display_name": "Python 3",
   "language": "python",
   "name": "python3"
  },
  "language_info": {
   "codemirror_mode": {
    "name": "ipython",
    "version": 3
   },
   "file_extension": ".py",
   "mimetype": "text/x-python",
   "name": "python",
   "nbconvert_exporter": "python",
   "pygments_lexer": "ipython3",
   "version": "3.7.4"
  }
 },
 "nbformat": 4,
 "nbformat_minor": 2
}
