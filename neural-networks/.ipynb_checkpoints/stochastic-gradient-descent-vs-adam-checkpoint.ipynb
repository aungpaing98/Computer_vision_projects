{
 "cells": [
  {
   "cell_type": "markdown",
   "metadata": {},
   "source": [
    "Run this notebook on colab :<br>\n",
    "[![Open In Colab](https://colab.research.google.com/github/aungpaing98/blog-source-codes/blob/main/neural-networks/stochastic-gradient-descent-vs-adam.ipynb)\n",
    "\n",
    "## Project Overview\n",
    "\n",
    "- Dataset(CIFAR10)\n",
    "    - Download, Load\n",
    "- Model (VGG16)\n",
    "- Loss (Categorical Cross Entropy)\n",
    "- Metrics (accuracy)\n",
    "- Decaying Learning rate\n",
    "- Early Stopping\n",
    "- Optimizer (SGD, Adam)\n",
    "- Tensorboard graph (altair graph for blog)"
   ]
  },
  {
   "cell_type": "code",
   "execution_count": 2,
   "metadata": {},
   "outputs": [],
   "source": [
    "import torch\n",
    "import torchvision\n",
    "import torchvision.transforms as T\n",
    "\n",
    "# Ensure the result is the same\n",
    "torch.manual_seed(7)"
   ]
  },
  {
   "cell_type": "code",
   "execution_count": null,
   "metadata": {},
   "outputs": [],
   "source": [
    "transform = T.Compose([\n",
    "    T.ToTensor(),\n",
    "    T.Normalize((0.5,), (0.5,)),\n",
    "    T.RandomCrop(size=5),\n",
    "    T.ColorJitter(brightness=0.3, contrast=0.3, saturation=0.3, hue=0.3)\n",
    "])\n",
    "\n",
    "\n",
    "train_dataset = torchvision.datasets.CIFAR10(\n",
    "        root='./data', train=True,\n",
    "        download=True, transform=transform)"
   ]
  }
 ],
 "metadata": {
  "kernelspec": {
   "display_name": "Python 3",
   "language": "python",
   "name": "python3"
  },
  "language_info": {
   "codemirror_mode": {
    "name": "ipython",
    "version": 3
   },
   "file_extension": ".py",
   "mimetype": "text/x-python",
   "name": "python",
   "nbconvert_exporter": "python",
   "pygments_lexer": "ipython3",
   "version": "3.8.5"
  }
 },
 "nbformat": 4,
 "nbformat_minor": 4
}
